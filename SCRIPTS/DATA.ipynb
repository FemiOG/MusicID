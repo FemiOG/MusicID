{
 "cells": [
  {
   "cell_type": "code",
   "execution_count": null,
   "metadata": {},
   "outputs": [],
   "source": [
    "from urllib.request import urlopen\n",
    "from bs4 import BeautifulSoup\n",
    "import pandas as pd\n",
    "import urllib\n"
   ]
  },
  {
   "cell_type": "code",
   "execution_count": null,
   "metadata": {},
   "outputs": [],
   "source": [
    "def extract_artist_top_songs(artist):\n",
    "    '''\n",
    "    Function to extract top 50 songs of an artist from top50songs.org\n",
    "\n",
    "    artist -- name of artist\n",
    "\n",
    "    '''\n",
    "    song_list = []\n",
    "    # specify the url\n",
    "    quote_page = 'http://www.top50songs.org/artist.php?artist='+str(artist)\n",
    "    quote_page = quote_page.replace(' ', '%20')\n",
    "    \n",
    "    # query the website and return the html to the variable ‘page’\n",
    "    page = urlopen(quote_page)\n",
    "\n",
    "    # parse the html using beautiful soap and store in variable `soup`\n",
    "    soup = BeautifulSoup(page, 'html.parser')\n",
    "\n",
    "    songs = soup.find_all('li')\n",
    "    for song in songs:\n",
    "        song_list.append(song.text)\n",
    "\n",
    "    return song_list"
   ]
  },
  {
   "cell_type": "code",
   "execution_count": null,
   "metadata": {},
   "outputs": [],
   "source": [
    "artists = pd.read_csv('artists.csv')\n",
    "artist_song = pd.DataFrame(columns=['Song','Artist','Genre'])\n",
    "\n",
    "for artist in artists.iterrows():\n",
    "    songs = extract_artist_top_songs(artist[1][0])\n",
    "    \n",
    "    artist_song_temp = pd.DataFrame(columns=['Song','Artist','Genre'])\n",
    "    \n",
    "    artist_song_temp.Song = songs\n",
    "    artist_song_temp.Artist = artist[1][0]\n",
    "    artist_song_temp.Genre = artist[1][1]\n",
    "    artist_song = artist_song.append(artist_song_temp)"
   ]
  },
  {
   "cell_type": "code",
   "execution_count": null,
   "metadata": {},
   "outputs": [],
   "source": [
    "artist_song = artist_song.reset_index(drop = True)"
   ]
  },
  {
   "cell_type": "code",
   "execution_count": null,
   "metadata": {},
   "outputs": [],
   "source": [
    "artist_song.to_csv('Artist-Song-Genre.csv')"
   ]
  }
 ],
 "metadata": {
  "kernelspec": {
   "display_name": "Python 3",
   "language": "python",
   "name": "python3"
  },
  "language_info": {
   "codemirror_mode": {
    "name": "ipython",
    "version": 3
   },
   "file_extension": ".py",
   "mimetype": "text/x-python",
   "name": "python",
   "nbconvert_exporter": "python",
   "pygments_lexer": "ipython3",
   "version": "3.6.3"
  }
 },
 "nbformat": 4,
 "nbformat_minor": 2
}
